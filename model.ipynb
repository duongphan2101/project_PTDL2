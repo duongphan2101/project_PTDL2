{
 "cells": [
  {
   "cell_type": "code",
   "execution_count": null,
   "metadata": {},
   "outputs": [
    {
     "data": {
      "image/png": "[encoded data removed]",
      "text/plain": [
       "<Figure size 400x400 with 1 Axes>"
      ]
     },
     "metadata": {},
     "output_type": "display_data"
    },
    {
     "name": "stdout",
     "output_type": "stream",
     "text": [
      "Ảnh đã chuyển thành MNIST-style và lưu tại: ./pixels_28x28.csv\n"
     ]
    },
    {
     "data": {
      "image/png": "[encoded data removed]",
      "text/plain": [
       "<Figure size 400x400 with 1 Axes>"
      ]
     },
     "metadata": {},
     "output_type": "display_data"
    },
    {
     "name": "stdout",
     "output_type": "stream",
     "text": [
      "1/1 [==============================] - 0s 68ms/step\n",
      "Dự đoán: 4 (Độ chính xác: 65.93%)\n"
     ]
    }
   ],
   "source": [
    "import cv2\n",
    "import numpy as np\n",
    "import pandas as pd\n",
    "import matplotlib.pyplot as plt\n",
    "import tensorflow as tf\n",
    "from tensorflow.keras.models import load_model\n",
    "\n",
    "# 1. Load mô hình đã huấn luyện\n",
    "model_path = \"./mnist_digit_model.h5\"\n",
    "model = load_model(model_path, safe_mode=False)\n",
    "\n",
    "# 2. Đọc ảnh từ file\n",
    "image_path = \"./data/4.jpg\"\n",
    "image = cv2.imread(image_path, cv2.IMREAD_GRAYSCALE)\n",
    "\n",
    "if image is None:\n",
    "    raise FileNotFoundError(f\"Không tìm thấy ảnh tại: {image_path}\")\n",
    "\n",
    "# 3. Resize ảnh về 28x28 (giống định dạng MNIST)\n",
    "image_resized = cv2.resize(image, (28, 28), interpolation=cv2.INTER_LINEAR)\n",
    "\n",
    "# 4. Đảo ngược màu để thành nền đen - chữ trắng (nếu cần)\n",
    "image_processed = 255 - image_resized\n",
    "\n",
    "# 5. Hiển thị ảnh sau xử lý\n",
    "plt.figure(figsize=(4, 4))\n",
    "plt.imshow(image_processed, cmap=\"gray\")\n",
    "plt.title(\"Ảnh sau xử lý\")\n",
    "plt.axis(\"off\")\n",
    "plt.show()\n",
    "\n",
    "# 6. Chuyển ảnh đã xử lý thành mảng 1D (28x28 → 784 columns)\n",
    "image_flatten = image_processed.flatten().reshape(1, -1)  # Biến thành 1 hàng\n",
    "\n",
    "# 7. Tạo DataFrame với header từ 0 đến 783\n",
    "columns = [str(i) for i in range(784)]\n",
    "df = pd.DataFrame(image_flatten, columns=columns)\n",
    "\n",
    "# 8. Lưu thành file CSV\n",
    "csv_path = \"./pixels_28x28.csv\"\n",
    "df.to_csv(csv_path, index=False)\n",
    "\n",
    "print(f\"Ảnh đã chuyển thành MNIST-style và lưu tại: {csv_path}\")\n",
    "\n",
    "# 9. Đọc lại file CSV\n",
    "df_loaded = pd.read_csv(csv_path)\n",
    "\n",
    "# 10. Chuyển DataFrame thành mảng numpy (28x28)\n",
    "image_loaded = df_loaded.to_numpy().reshape(28, 28)\n",
    "\n",
    "# 11. Hiển thị ảnh khôi phục từ CSV\n",
    "plt.figure(figsize=(4, 4))\n",
    "plt.imshow(image_loaded, cmap=\"gray\")\n",
    "plt.title(\"Ảnh khôi phục từ CSV\")\n",
    "plt.axis(\"off\")\n",
    "plt.show()\n",
    "\n",
    "# 12. Chuẩn bị input cho mô hình: reshape và normalize\n",
    "image_input = image_loaded.astype(\"float32\").reshape(1, 28, 28, 1) / 255.0\n",
    "\n",
    "# 13. Dự đoán số\n",
    "predictions = model.predict(image_input)\n",
    "predicted_label = np.argmax(predictions)\n",
    "confidence = np.max(predictions) * 100\n",
    "\n",
    "# 14. In kết quả dự đoán\n",
    "print(f\"Dự đoán: {predicted_label} (Độ chính xác: {confidence:.2f}%)\")\n"
   ]
  }
 ],
 "metadata": {
  "kernelspec": {
   "display_name": "Python 3",
   "language": "python",
   "name": "python3"
  },
  "language_info": {
   "codemirror_mode": {
    "name": "ipython",
    "version": 3
   },
   "file_extension": ".py",
   "mimetype": "text/x-python",
   "name": "python",
   "nbconvert_exporter": "python",
   "pygments_lexer": "ipython3",
   "version": "3.8.10"
  }
 },
 "nbformat": 4,
 "nbformat_minor": 2
}
